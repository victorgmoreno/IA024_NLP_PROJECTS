{
 "cells": [
  {
   "cell_type": "markdown",
   "metadata": {},
   "source": [
    "# Análise de sentimento por Engenharia de Prompts\n",
    "\n",
    "- Utilizar o groq.com para usar a API do Llama 3 70B para fazer análise de sentimentos do IMDB. É um enunciado bem livre e vamos acompanhando durante a semana em função dos resultados parciais que vocês conseguem fazer."
   ]
  },
  {
   "cell_type": "markdown",
   "metadata": {},
   "source": [
    "# 1. Imports"
   ]
  },
  {
   "cell_type": "code",
   "execution_count": 1,
   "metadata": {},
   "outputs": [
    {
     "name": "stderr",
     "output_type": "stream",
     "text": [
      "/Users/victorgmoreno/miniconda3/envs/ia024/lib/python3.12/site-packages/tqdm/auto.py:21: TqdmWarning: IProgress not found. Please update jupyter and ipywidgets. See https://ipywidgets.readthedocs.io/en/stable/user_install.html\n",
      "  from .autonotebook import tqdm as notebook_tqdm\n"
     ]
    }
   ],
   "source": [
    "import torch\n",
    "import pandas as pd\n",
    "from datasets import load_dataset\n",
    "import os\n",
    "from groq import Groq\n",
    "\n",
    "client = Groq(api_key=os.environ.get(\"GROQ_API_KEY\"))"
   ]
  },
  {
   "cell_type": "markdown",
   "metadata": {},
   "source": [
    "# 2. Dataset\n",
    "\n",
    "I am going to use the IMDB dataset and its partitions"
   ]
  },
  {
   "cell_type": "code",
   "execution_count": 8,
   "metadata": {},
   "outputs": [],
   "source": [
    "# Load the IMDb movie reviews dataset\n",
    "train_dataset_full = load_dataset('imdb', split='train')\n",
    "test_dataset_full = load_dataset('imdb', split='test')\n",
    "test_dataset_full  = test_dataset_full.shuffle(seed=42).select(range(1000)) # avaliação com 1000 amostras aleatórias do conjunto de teste"
   ]
  },
  {
   "cell_type": "code",
   "execution_count": 13,
   "metadata": {},
   "outputs": [
    {
     "name": "stdout",
     "output_type": "stream",
     "text": [
      "{'text': \"OK Clara Bow silent film from 1927, it's a spin-off of Rain, with Bow playing the half-Hawaiian wild daughter of the local pineapple king who falls in love with the staid English engineer--Clive Brook. Bow competes with the local widow (Arlette Marchal) for his attentions, but both women get a big surprise when his wife shows up (Patricia Dupont). The predatory wife is ready for a divorce until she discovers he might be on the verge of a fortune. Bow settles her hash fast.<br /><br />Bow has personality to spare and has a few great scenes: her opening nude bath, her hula in a grass skirt, and the dog rescue scene with Bow and Brook doing their own stunts.<br /><br />Note: the IMDb credit list is wrong. The film credits (from the DVD I have) list Patricia Dupont as playing Mrs. Haldane---not Margaret Truax as listed on IMDb.\", 'label': 1}\n",
      "{'text': 'No doubt, when Madonna and Guy Ritchie married, it was because they both thought it would help their movie careers. If you\\'ve been through the ordeal of watching \"Swept Away,\" then you know at that level it was a match made in hell. After nearly 20 years of trying to become a respected actress (or \"octress\" as she might have pronounced it in \"The Next Best Thing\"), she still can\\'t get out of herself long enough to turn in a performance that anyone with taste could even call decent. And that\\'s the thing that makes people dislike her so much on the screen: that gut feeling that her ego is so inflated that it prevents her from being able to just let go and connect with her audience. If there\\'s any justice in this universe, she just blew her last chance.', 'label': 0}\n",
      "{'text': 'I have the entire Weissmuller Tarzan series on DVD (fully restored editions) & I never tire of watching them. My personal favorite is \"Tarzan and His Mate\", due entirely (well almost entirely) to Maureen O\\'Sullivan\\'s costume and the occasional flashes of her genital area beneath that leather flap hanging in front. Before anyone claims that A - It wasn\\'t really her, or B - It wasn\\'t really what it looks like, let me say that I have watched it numerous time, in high zoom mode, and trust me...it IS her, AND she is completely naked underneath that costume...several times, especially during the lion attack at the end, careful viewing in slow motion and maximum zoom will reveal that she was shaved except for a tiny patch of dark hair covering her labia...There is NO mistake about that at all. As to the swimming scene being a body double in a \"skin\" suit, yes, it is a double, BUT she is NOT wearing any \"skin\" suit or anything else...again, slow motion and maximum zoom shows everything to those who want to see it. Now, that controversy out of the way, let\\'s move on the actual movie...I thought the script was really well thought out and written tightly...The action sequences were simply great, although it is obviously a stuntman riding the rhino, Weissmuller actually wrestles the big male lion...The use of background shots that were second unit stuff from Africa is very well blended with the studio & US locations making it sometimes hard to tell which is which. Don\\'t complain too much though, remember that 90% of ALL films is phony anyway, so just relax and enjoy the damned thing with a big bowl of popcorn, some cold beer, and a fresh pack of smokes...a sexy and willing girlfriend/wife isn\\'t out of line either...lol. Oh...One final word about nudity...at the very beginning, while the white hunters are speaking dialogue, keep your eyes on the background extras...there are several good shots of nude African girls (obviously shot on location) behind them. One more thing, the movie is not racist by the standards of the 1930\\'s until the 1960\\'s...that\\'s the way colored people were thought of and portrayed back then. Shaft hadn\\'t even been thought about at that time, nor would audiences have accepted any other portrayals of them at the time in history. Safaris actually did use natives carrying luggage on their heads...and Tiny\\'s character did die a heroic death trying to save the white hunters and Jane. As a matter of fact, it wasn\\'t until Gene Autry treated the native Americans and colored people in his Westerns like real human beings that Hollywood began to see that it was okay to do so.', 'label': 1}\n"
     ]
    }
   ],
   "source": [
    "# Selecting positives from index 11112 to 12111 and 23612 to 24612\n",
    "train_dataset = train_dataset_full.select(list(range(11112, 12112)) + list(range(23612, 24612)))\n",
    "train_dataset = train_dataset.shuffle(seed=42).select(range(2000))"
   ]
  },
  {
   "cell_type": "markdown",
   "metadata": {},
   "source": [
    "# 3. Groq\n",
    "\n",
    "Groq's API stands out for its speed and efficiency, making it a viable option for developers looking to implement real-time interactions with LLMs in their applications. To use the Groq API, developers need to install the relevant client libraries and set up their API keys."
   ]
  },
  {
   "cell_type": "markdown",
   "metadata": {},
   "source": [
    "## 3.1. Client Key"
   ]
  },
  {
   "cell_type": "code",
   "execution_count": 15,
   "metadata": {},
   "outputs": [],
   "source": [
    "# Basic Test Groq\n",
    "client = Groq(api_key=os.environ.get(\"GROQ_API_KEY\"),)"
   ]
  },
  {
   "cell_type": "markdown",
   "metadata": {},
   "source": [
    "## 3.2. Groq Llama 3 to Sentiment Aanlysis"
   ]
  },
  {
   "cell_type": "code",
   "execution_count": 14,
   "metadata": {},
   "outputs": [],
   "source": [
    "def sentiment_analysis(review, prompt):\n",
    "    # organizing prompt\n",
    "    prompt = f\"\"\"{prompt}. This is the movie review: '{review}'. \"\"\"\n",
    "    \n",
    "    # Chamando a API com o prompt\n",
    "    response = client.chat.completions.create(\n",
    "        messages=[{\"role\": \"system\", \"content\": prompt}],\n",
    "        model=\"llama3-70b-8192\")\n",
    "        \n",
    "    # Retornando a resposta do modelo\n",
    "    return response.choices[0].message.content"
   ]
  },
  {
   "cell_type": "markdown",
   "metadata": {},
   "source": [
    "# 4. Prompt Engineering\n",
    "\n",
    "Here are 3 types of prompts with different types of structures. The goal of this code is to compare their accuracy results based on the different prompts."
   ]
  },
  {
   "cell_type": "code",
   "execution_count": 16,
   "metadata": {},
   "outputs": [
    {
     "name": "stdout",
     "output_type": "stream",
     "text": [
      "negative\n"
     ]
    }
   ],
   "source": [
    "prompt_zero_shot = \"\"\"Your task is to analyse the sentiment of the movie review and classify if it is 'positive' or 'negative'. Your answer MUST be ONLY one word, either 'positive' or 'negative', nothing else.\n",
    "    Is the following movie review positive or negative?\"\"\"\n",
    "\n",
    "prompt_few_shot = \"\"\"Your task is to analyse the sentiment of the movie review and classify if it is 'positive' or 'negative'. Your answer MUST be ONLY one word, either 'positive' or 'negative', nothing else.\n",
    "    Below are four examples to guide your understanding:\n",
    "    Review 1: \"This movie is very bad. I did not like it.\" - Sentiment: \"negative\"\n",
    "    Review 2: \"This movie is very good. I've loved it.\" - Sentiment: \"positive\"\n",
    "    Review 3: \"Terrible movie. Nuff Said.<br /><br />These Lines are Just Filler. The movie was bad. Why I have to expand on that I don't know. This is already a waste of my time. I just wanted to warn others. Avoid this movie. The acting sucks and the writing is just moronic. Bad in every way. The only nice thing about the movie are Deniz Akkaya's breasts. Even that was ruined though by a terrible and unneeded rape scene. The movie is a poorly contrived and totally unbelievable piece of garbage.<br /><br />OK now I am just going to rag on IMDb for this stupid rule of 10 lines of text minimum. First I waste my time watching this offal. Then feeling compelled to warn others I create an account with IMDb only to discover that I have to write a friggen essay on the film just to express how bad I think it is. Totally unnecessary.\" - Sentiment: \"negative\"\n",
    "    Review 4: \"I can't remember many films where a bumbling idiot of a hero was so funny throughout. Leslie Cheung is such the antithesis of a hero that he's too dense to be seduced by a gorgeous vampire... I had the good luck to see it on a big screen, and to find a video to watch again and again.\" - Sentiment: \"positive\" \n",
    "    Now is your turn. Is the following movie review positive or negative? \"\"\"\n",
    "\n",
    "prompt_chain_of_thought_cot = \"\"\"Analyze the review and determine if it's positive or negative using a step-by-step reasoning approach. \n",
    "    First, identify key words or phrases that indicate emotion or judgment. Next, assess whether these words have a positive or negative connotation. Finally, based on the predominance of positive or negative words, conclude the sentiment of the review.\n",
    "    Steps to follow:\n",
    "        1. Identification of sentiment-indicating keywords.\n",
    "        2. Evaluation of each keyword's sentiment connotation (positive or negative).\n",
    "        3. Conclusion based on the majority sentiment of keywords.\n",
    "        4. Classify if the final concluision is 'positive' or 'negative', and return only the class, nothing else.\n",
    "    Your answer should ONLY the tags 'positive' or 'negative', nothing else.\"\"\"\n",
    "\n",
    "\n",
    "# Exemplo de uso\n",
    "review = \"The movie was normal! The story was little engaging and the characters were little well-developed.\"\n",
    "print(sentiment_analysis(review, prompt_chain_of_thought_cot))"
   ]
  },
  {
   "cell_type": "markdown",
   "metadata": {},
   "source": [
    "# 5. Inference Test"
   ]
  },
  {
   "cell_type": "code",
   "execution_count": null,
   "metadata": {},
   "outputs": [],
   "source": []
  },
  {
   "cell_type": "markdown",
   "metadata": {},
   "source": [
    "# 6. Results"
   ]
  },
  {
   "cell_type": "markdown",
   "metadata": {},
   "source": []
  }
 ],
 "metadata": {
  "kernelspec": {
   "display_name": "ia024_kernel",
   "language": "python",
   "name": "ia024_kernel"
  },
  "language_info": {
   "codemirror_mode": {
    "name": "ipython",
    "version": 3
   },
   "file_extension": ".py",
   "mimetype": "text/x-python",
   "name": "python",
   "nbconvert_exporter": "python",
   "pygments_lexer": "ipython3",
   "version": "3.12.2"
  }
 },
 "nbformat": 4,
 "nbformat_minor": 2
}
