{
 "cells": [
  {
   "cell_type": "code",
   "execution_count": 17,
   "metadata": {},
   "outputs": [],
   "source": [
    "import os\n",
    "import json\n",
    "import random\n",
    "import pickle\n",
    "import tarfile\n",
    "import requests\n",
    "import pandas as pd\n",
    "from tqdm import tqdm\n",
    "from ragas import evaluate\n",
    "from ragas.metrics import faithfulness, answer_relevancy, context_relevancy\n",
    "from groq import Groq\n",
    "import time"
   ]
  },
  {
   "cell_type": "code",
   "execution_count": 43,
   "metadata": {},
   "outputs": [
    {
     "data": {
      "text/plain": [
       "'/Users/victorgmoreno/repositorios/IA024_NLP_PROJECTS/atividade_11'"
      ]
     },
     "execution_count": 43,
     "metadata": {},
     "output_type": "execute_result"
    }
   ],
   "source": [
    "pwd"
   ]
  },
  {
   "cell_type": "code",
   "execution_count": 14,
   "metadata": {},
   "outputs": [],
   "source": [
    "GROQ_API_KEY = Groq(api_key=os.environ.get(\"GROQ_API_KEY\"))"
   ]
  },
  {
   "cell_type": "code",
   "execution_count": 44,
   "metadata": {},
   "outputs": [
    {
     "name": "stderr",
     "output_type": "stream",
     "text": [
      "  0%|          | 0/50 [00:00<?, ?it/s]"
     ]
    },
    {
     "name": "stdout",
     "output_type": "stream",
     "text": [
      "Error at index 2: 'ground_truth'\n"
     ]
    },
    {
     "name": "stderr",
     "output_type": "stream",
     "text": [
      "  2%|▏         | 1/50 [02:00<1:38:00, 120.00s/it]"
     ]
    },
    {
     "name": "stdout",
     "output_type": "stream",
     "text": [
      "Error at index 3: 'ground_truth'\n"
     ]
    }
   ],
   "source": [
    "import os\n",
    "import json\n",
    "import pickle\n",
    "import random\n",
    "import time\n",
    "from tqdm import tqdm\n",
    "import pandas as pd\n",
    "\n",
    "def load_data():\n",
    "    data_directory = 'data'\n",
    "    articles_file = os.path.join(data_directory, \"context_articles.json\")\n",
    "    questions_file = os.path.join(data_directory, \"test_questions.json\")\n",
    "\n",
    "    # Carregar artigos de contexto e conjunto de teste\n",
    "    if os.path.exists(articles_file) and os.path.exists(questions_file):\n",
    "        with open(articles_file, 'r') as f:\n",
    "            context_articles = json.load(f)\n",
    "        with open(questions_file, 'r') as f:\n",
    "            test_set = json.load(f)\n",
    "        return context_articles, test_set\n",
    "    else:\n",
    "        print(\"Files not found, check your dataset path.\")\n",
    "        return None, None\n",
    "\n",
    "def process_and_evaluate(context_articles, test_set):\n",
    "    data_directory = 'data'\n",
    "    data_file = \"qa_data.pickle\"\n",
    "    save_file = os.path.join(data_directory, data_file)\n",
    "\n",
    "    # Garantindo que o diretório de dados exista\n",
    "    os.makedirs(data_directory, exist_ok=True)\n",
    "\n",
    "    # Carregando ou inicializando o dicionário de QA\n",
    "    if os.path.exists(save_file):\n",
    "        with open(save_file, 'rb') as f:\n",
    "            qa = pickle.load(f)\n",
    "    else:\n",
    "        qa = {\n",
    "            'question': [],\n",
    "            'ground_truth': [],\n",
    "            'contexts': [],\n",
    "            'answer': [],\n",
    "            'faithfulness': [],\n",
    "            'answer_relevancy': [],\n",
    "            'context_relevancy': []\n",
    "        }\n",
    "\n",
    "    # Assumindo que 'test_set' é uma lista de dicionários\n",
    "    with tqdm(total=len(test_set)) as pbar:\n",
    "        for entry in test_set:\n",
    "            if entry['question'] not in qa['question']:\n",
    "                try:\n",
    "                    # Simulação de avaliação\n",
    "                    result = {'faithfulness': random.random(), 'answer_relevancy': random.random(), 'context_relevancy': random.random()}\n",
    "                    \n",
    "                    qa['question'].append(entry['question'])\n",
    "                    qa['ground_truth'].append(entry['ground_truth'])\n",
    "                    qa['contexts'].append(context_articles)  # Exemplo simplificado\n",
    "                    qa['answer'].append(entry['answer'])\n",
    "                    for key in result:\n",
    "                        qa[key].append(result[key])\n",
    "\n",
    "                    if len(qa['question']) % 5 == 0:\n",
    "                        with open(save_file, 'wb') as f:\n",
    "                            pickle.dump(qa, f)\n",
    "                except Exception as e:\n",
    "                    print(f\"Error at index {len(qa['question'])}: {e}\")\n",
    "                    time.sleep(120)\n",
    "                pbar.update(1)\n",
    "\n",
    "        # Salvando os dados finais\n",
    "        with open(save_file, 'wb') as f:\n",
    "            pickle.dump(qa, f)\n",
    "\n",
    "def load_and_display_results():\n",
    "    data_directory = 'data'\n",
    "    data_file = \"qa_data.pickle\"\n",
    "    save_file = os.path.join(data_directory, data_file)\n",
    "\n",
    "    if os.path.exists(save_file):\n",
    "        with open(save_file, 'rb') as f:\n",
    "            data = pickle.load(f)\n",
    "        df = pd.DataFrame(data)\n",
    "        print(df)\n",
    "    else:\n",
    "        print(f\"Arquivo {save_file} não encontrado.\")\n",
    "\n",
    "if __name__ == \"__main__\":\n",
    "    context_articles, test_set = load_data()\n",
    "    if context_articles and test_set:\n",
    "        process_and_evaluate(context_articles, test_set)\n",
    "        load_and_display_results()\n"
   ]
  },
  {
   "cell_type": "code",
   "execution_count": 15,
   "metadata": {},
   "outputs": [],
   "source": [
    "def setup_dataset():\n",
    "    DATA_DIR = 'data'\n",
    "    if not os.path.exists(DATA_DIR):\n",
    "        os.makedirs(DATA_DIR)\n",
    "\n",
    "    context_articles = \"https://iirc-dataset.s3.us-west-2.amazonaws.com/context_articles.tar.gz\"\n",
    "    filename = 'context_articles.tar.gz'\n",
    "    filepath = os.path.join(DATA_DIR, filename)\n",
    "\n",
    "    if not os.path.exists(filepath):\n",
    "        print(f\"Downloading {filename}...\")\n",
    "        response = requests.get(context_articles)\n",
    "        with open(filepath, 'wb') as f:\n",
    "            f.write(response.content)\n",
    "        print(f\"{filename} downloaded.\")\n",
    "        \n",
    "        with tarfile.open(filepath, 'r:gz') as tar:\n",
    "            tar.extractall(path=DATA_DIR)\n",
    "        print(f\"{filename} extracted.\")\n"
   ]
  },
  {
   "cell_type": "code",
   "execution_count": 37,
   "metadata": {},
   "outputs": [],
   "source": [
    "import os\n",
    "import pickle\n",
    "import random\n",
    "import time\n",
    "from tqdm import tqdm\n",
    "\n",
    "def process_and_evaluate():\n",
    "    # Definindo o diretório e o arquivo de dados\n",
    "    data_directory = 'data'\n",
    "    data_file = \"qa_data.pickle\"\n",
    "    save_file = os.path.join(data_directory, data_file)\n",
    "\n",
    "    # Garantindo que o diretório de dados exista\n",
    "    os.makedirs(data_directory, exist_ok=True)\n",
    "\n",
    "    # Carregando ou inicializando o dicionário de QA\n",
    "    if os.path.exists(save_file):\n",
    "        with open(save_file, 'rb') as f:\n",
    "            qa = pickle.load(f)\n",
    "    else:\n",
    "        qa = {\n",
    "            'question': [],\n",
    "            'ground_truth': [],\n",
    "            'contexts': [],\n",
    "            'answer': [],\n",
    "            'faithfulness': [],\n",
    "            'answer_relevancy': [],\n",
    "            'context_relevancy': []\n",
    "        }\n",
    "\n",
    "    # Simulando dados de entrada para processamento\n",
    "    dataset = [\n",
    "        {'question': \"What is AI?\", 'ground_truth': \"Study of intelligent agents.\", 'contexts': \"AI is used in various fields.\", 'answer': \"AI stands for Artificial Intelligence.\"}\n",
    "    ]\n",
    "\n",
    "    with tqdm(total=len(dataset)) as pbar:\n",
    "        for entry in dataset:\n",
    "            if entry['question'] not in qa['question']:\n",
    "                try:\n",
    "                    # Simulação de avaliação\n",
    "                    result = {'faithfulness': random.random(), 'answer_relevancy': random.random(), 'context_relevancy': random.random()}\n",
    "                    \n",
    "                    qa['question'].append(entry['question'])\n",
    "                    qa['ground_truth'].append(entry['ground_truth'])\n",
    "                    qa['contexts'].append(entry['contexts'])\n",
    "                    qa['answer'].append(entry['answer'])\n",
    "                    for key in result:\n",
    "                        qa[key].append(result[key])\n",
    "\n",
    "                    if len(qa['question']) % 5 == 0:\n",
    "                        with open(save_file, 'wb') as f:\n",
    "                            pickle.dump(qa, f)\n",
    "                except Exception as e:\n",
    "                    print(f\"Error at index {len(qa['question'])}: {e}\")\n",
    "                    time.sleep(120)\n",
    "                pbar.update(1)\n",
    "\n",
    "        with open(save_file, 'wb') as f:\n",
    "            pickle.dump(qa, f)\n"
   ]
  },
  {
   "cell_type": "code",
   "execution_count": 38,
   "metadata": {},
   "outputs": [],
   "source": [
    "def load_and_display_results():\n",
    "    data_directory = 'data'\n",
    "    data_file = \"qa_data.pickle\"\n",
    "    save_file = os.path.join(data_directory, data_file)\n",
    "\n",
    "    if os.path.exists(save_file):\n",
    "        with open(save_file, 'rb') as f:\n",
    "            data = pickle.load(f)\n",
    "        df = pd.DataFrame(data)\n",
    "        print(df)\n",
    "    else:\n",
    "        print(f\"Arquivo {save_file} não encontrado.\")"
   ]
  },
  {
   "cell_type": "code",
   "execution_count": 39,
   "metadata": {},
   "outputs": [
    {
     "name": "stderr",
     "output_type": "stream",
     "text": [
      "  0%|          | 0/1 [00:00<?, ?it/s]\n"
     ]
    },
    {
     "ename": "FileNotFoundError",
     "evalue": "[Errno 2] No such file or directory: 'qa_data.pickle'",
     "output_type": "error",
     "traceback": [
      "\u001b[0;31m---------------------------------------------------------------------------\u001b[0m",
      "\u001b[0;31mFileNotFoundError\u001b[0m                         Traceback (most recent call last)",
      "Cell \u001b[0;32mIn[39], line 5\u001b[0m\n\u001b[1;32m      3\u001b[0m process_and_evaluate()\n\u001b[1;32m      4\u001b[0m \u001b[38;5;66;03m# Carregar e exibir os resultados\u001b[39;00m\n\u001b[0;32m----> 5\u001b[0m \u001b[38;5;28;01mwith\u001b[39;00m \u001b[38;5;28;43mopen\u001b[39;49m\u001b[43m(\u001b[49m\u001b[38;5;124;43m'\u001b[39;49m\u001b[38;5;124;43mqa_data.pickle\u001b[39;49m\u001b[38;5;124;43m'\u001b[39;49m\u001b[43m,\u001b[49m\u001b[43m \u001b[49m\u001b[38;5;124;43m'\u001b[39;49m\u001b[38;5;124;43mrb\u001b[39;49m\u001b[38;5;124;43m'\u001b[39;49m\u001b[43m)\u001b[49m \u001b[38;5;28;01mas\u001b[39;00m f:\n\u001b[1;32m      6\u001b[0m     data \u001b[38;5;241m=\u001b[39m pickle\u001b[38;5;241m.\u001b[39mload(f)\n\u001b[1;32m      7\u001b[0m df \u001b[38;5;241m=\u001b[39m pd\u001b[38;5;241m.\u001b[39mDataFrame(data)\n",
      "File \u001b[0;32m~/miniconda3/envs/ia024/lib/python3.12/site-packages/IPython/core/interactiveshell.py:324\u001b[0m, in \u001b[0;36m_modified_open\u001b[0;34m(file, *args, **kwargs)\u001b[0m\n\u001b[1;32m    317\u001b[0m \u001b[38;5;28;01mif\u001b[39;00m file \u001b[38;5;129;01min\u001b[39;00m {\u001b[38;5;241m0\u001b[39m, \u001b[38;5;241m1\u001b[39m, \u001b[38;5;241m2\u001b[39m}:\n\u001b[1;32m    318\u001b[0m     \u001b[38;5;28;01mraise\u001b[39;00m \u001b[38;5;167;01mValueError\u001b[39;00m(\n\u001b[1;32m    319\u001b[0m         \u001b[38;5;124mf\u001b[39m\u001b[38;5;124m\"\u001b[39m\u001b[38;5;124mIPython won\u001b[39m\u001b[38;5;124m'\u001b[39m\u001b[38;5;124mt let you open fd=\u001b[39m\u001b[38;5;132;01m{\u001b[39;00mfile\u001b[38;5;132;01m}\u001b[39;00m\u001b[38;5;124m by default \u001b[39m\u001b[38;5;124m\"\u001b[39m\n\u001b[1;32m    320\u001b[0m         \u001b[38;5;124m\"\u001b[39m\u001b[38;5;124mas it is likely to crash IPython. If you know what you are doing, \u001b[39m\u001b[38;5;124m\"\u001b[39m\n\u001b[1;32m    321\u001b[0m         \u001b[38;5;124m\"\u001b[39m\u001b[38;5;124myou can use builtins\u001b[39m\u001b[38;5;124m'\u001b[39m\u001b[38;5;124m open.\u001b[39m\u001b[38;5;124m\"\u001b[39m\n\u001b[1;32m    322\u001b[0m     )\n\u001b[0;32m--> 324\u001b[0m \u001b[38;5;28;01mreturn\u001b[39;00m \u001b[43mio_open\u001b[49m\u001b[43m(\u001b[49m\u001b[43mfile\u001b[49m\u001b[43m,\u001b[49m\u001b[43m \u001b[49m\u001b[38;5;241;43m*\u001b[39;49m\u001b[43margs\u001b[49m\u001b[43m,\u001b[49m\u001b[43m \u001b[49m\u001b[38;5;241;43m*\u001b[39;49m\u001b[38;5;241;43m*\u001b[39;49m\u001b[43mkwargs\u001b[49m\u001b[43m)\u001b[49m\n",
      "\u001b[0;31mFileNotFoundError\u001b[0m: [Errno 2] No such file or directory: 'qa_data.pickle'"
     ]
    }
   ],
   "source": [
    "if __name__ == \"__main__\":\n",
    "    setup_dataset()\n",
    "    process_and_evaluate()\n",
    "    # Carregar e exibir os resultados\n",
    "    with open('qa_data.pickle', 'rb') as f:\n",
    "        data = pickle.load(f)\n",
    "    df = pd.DataFrame(data)\n",
    "    print(df.describe())\n",
    "    df.hist(figsize=(10,8), layout=(1,3))\n"
   ]
  },
  {
   "cell_type": "code",
   "execution_count": 40,
   "metadata": {},
   "outputs": [
    {
     "ename": "NameError",
     "evalue": "name 'dataset' is not defined",
     "output_type": "error",
     "traceback": [
      "\u001b[0;31m---------------------------------------------------------------------------\u001b[0m",
      "\u001b[0;31mNameError\u001b[0m                                 Traceback (most recent call last)",
      "Cell \u001b[0;32mIn[40], line 13\u001b[0m\n\u001b[1;32m      8\u001b[0m     qa \u001b[38;5;241m=\u001b[39m {\u001b[38;5;124m'\u001b[39m\u001b[38;5;124mquestion\u001b[39m\u001b[38;5;124m'\u001b[39m: [], \u001b[38;5;124m'\u001b[39m\u001b[38;5;124mground_truth\u001b[39m\u001b[38;5;124m'\u001b[39m: [], \u001b[38;5;124m'\u001b[39m\u001b[38;5;124mcontexts\u001b[39m\u001b[38;5;124m'\u001b[39m: [], \u001b[38;5;124m'\u001b[39m\u001b[38;5;124manswer\u001b[39m\u001b[38;5;124m'\u001b[39m: [],\n\u001b[1;32m      9\u001b[0m           \u001b[38;5;124m'\u001b[39m\u001b[38;5;124mfaithfulness\u001b[39m\u001b[38;5;124m'\u001b[39m: [], \u001b[38;5;124m'\u001b[39m\u001b[38;5;124manswer_relevancy\u001b[39m\u001b[38;5;124m'\u001b[39m: [], \u001b[38;5;124m'\u001b[39m\u001b[38;5;124mcontext_relevancy\u001b[39m\u001b[38;5;124m'\u001b[39m: []\n\u001b[1;32m     10\u001b[0m          }\n\u001b[1;32m     12\u001b[0m last_processed_index \u001b[38;5;241m=\u001b[39m \u001b[38;5;241m0\u001b[39m\n\u001b[0;32m---> 13\u001b[0m \u001b[38;5;28;01mwith\u001b[39;00m tqdm(total\u001b[38;5;241m=\u001b[39m\u001b[38;5;28mlen\u001b[39m(\u001b[43mdataset\u001b[49m)) \u001b[38;5;28;01mas\u001b[39;00m pbar:\n\u001b[1;32m     14\u001b[0m     \u001b[38;5;28;01mwhile\u001b[39;00m last_processed_index \u001b[38;5;241m<\u001b[39m \u001b[38;5;28mlen\u001b[39m(dataset):\n\u001b[1;32m     16\u001b[0m         q \u001b[38;5;241m=\u001b[39m Dataset\u001b[38;5;241m.\u001b[39mfrom_dict(dataset[last_processed_index : last_processed_index \u001b[38;5;241m+\u001b[39m \u001b[38;5;241m1\u001b[39m ])\n",
      "\u001b[0;31mNameError\u001b[0m: name 'dataset' is not defined"
     ]
    }
   ],
   "source": [
    "#Adaptado do Ramon Simoes\n",
    "save_file = \"qa_data.pickle\"\n",
    "\n",
    "if os.path.exists(save_file):\n",
    "    with open(save_file, 'rb') as f:\n",
    "        qa = pickle.load(f)\n",
    "else:\n",
    "    qa = {'question': [], 'ground_truth': [], 'contexts': [], 'answer': [],\n",
    "          'faithfulness': [], 'answer_relevancy': [], 'context_relevancy': []\n",
    "         }\n",
    "\n",
    "last_processed_index = 0\n",
    "with tqdm(total=len(dataset)) as pbar:\n",
    "    while last_processed_index < len(dataset):\n",
    "\n",
    "        q = Dataset.from_dict(dataset[last_processed_index : last_processed_index + 1 ])\n",
    "\n",
    "        if q['question'] in qa['question']:\n",
    "            last_processed_index += 1\n",
    "            pbar.update(1)\n",
    "            continue\n",
    "\n",
    "        try:\n",
    "            qa['question'].append(q['question'])\n",
    "            qa['ground_truth'].append(q['ground_truth'])\n",
    "            qa['contexts'].append(q['contexts'])\n",
    "            qa['answer'].append(q['answer'])\n",
    "\n",
    "            result = evaluate(q, metrics, llm=llm, embeddings=embedder)\n",
    "\n",
    "            for r in result:\n",
    "                qa[r].append(result[r])\n",
    "\n",
    "            if len(qa['question']) % 5 == 0:\n",
    "                with open(save_file, 'wb') as f:\n",
    "                    pickle.dump(qa, f)\n",
    "\n",
    "                sleep_time = random.uniform(5, 20)\n",
    "                time.sleep(sleep_time)\n",
    "\n",
    "            last_processed_index += 1\n",
    "            pbar.update(1)\n",
    "\n",
    "        except Exception as e:\n",
    "            print(f\"\\nErro no indice {last_processed_index}: {e}\")\n",
    "            print(\"Rate limit excedido... esperando 120s\")\n",
    "            time.sleep(120)\n",
    "\n",
    "with open(save_file, 'wb') as f:\n",
    "    pickle.dump(qa, f)"
   ]
  },
  {
   "cell_type": "code",
   "execution_count": null,
   "metadata": {},
   "outputs": [],
   "source": []
  }
 ],
 "metadata": {
  "kernelspec": {
   "display_name": "ia024_kernel",
   "language": "python",
   "name": "ia024_kernel"
  },
  "language_info": {
   "codemirror_mode": {
    "name": "ipython",
    "version": 3
   },
   "file_extension": ".py",
   "mimetype": "text/x-python",
   "name": "python",
   "nbconvert_exporter": "python",
   "pygments_lexer": "ipython3",
   "version": "3.12.2"
  }
 },
 "nbformat": 4,
 "nbformat_minor": 2
}
