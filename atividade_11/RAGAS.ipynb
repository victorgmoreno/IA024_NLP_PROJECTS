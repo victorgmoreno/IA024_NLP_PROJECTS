{
 "cells": [
  {
   "cell_type": "code",
   "execution_count": 1,
   "metadata": {},
   "outputs": [
    {
     "name": "stderr",
     "output_type": "stream",
     "text": [
      "/Users/victorgmoreno/miniconda3/envs/ia024/lib/python3.12/site-packages/tqdm/auto.py:21: TqdmWarning: IProgress not found. Please update jupyter and ipywidgets. See https://ipywidgets.readthedocs.io/en/stable/user_install.html\n",
      "  from .autonotebook import tqdm as notebook_tqdm\n"
     ]
    }
   ],
   "source": [
    "import os\n",
    "import json\n",
    "import random\n",
    "import pickle\n",
    "import tarfile\n",
    "import requests\n",
    "import pandas as pd\n",
    "from tqdm import tqdm\n",
    "from ragas import evaluate\n",
    "from ragas.metrics import faithfulness, answer_relevancy, context_relevancy\n",
    "from groq import Groq\n",
    "import time"
   ]
  },
  {
   "cell_type": "code",
   "execution_count": 2,
   "metadata": {},
   "outputs": [],
   "source": [
    "GROQ_API_KEY = Groq(api_key=os.environ.get(\"GROQ_API_KEY\"))"
   ]
  },
  {
   "cell_type": "code",
   "execution_count": 6,
   "metadata": {},
   "outputs": [
    {
     "name": "stderr",
     "output_type": "stream",
     "text": [
      "100%|██████████| 1/1 [00:00<00:00, 4760.84it/s]\n"
     ]
    },
    {
     "name": "stdout",
     "output_type": "stream",
     "text": [
      "                                         question              ground_truth  \\\n",
      "0  What stadium do the Chicago White Sox play in?  No ground truth provided   \n",
      "\n",
      "                                            contexts  \\\n",
      "0  {'san diego padres': 'The San Diego Padres are...   \n",
      "\n",
      "                                              answer  faithfulness  \\\n",
      "0  {'type': 'span', 'answer_spans': [{'text': ' G...      0.674774   \n",
      "\n",
      "   answer_relevancy  context_relevancy  \n",
      "0          0.175383           0.213943  \n"
     ]
    }
   ],
   "source": [
    "\n",
    "def load_data(sample_fraction=0.01):\n",
    "    data_directory = 'data'\n",
    "    articles_file = os.path.join(data_directory, \"context_articles.json\")\n",
    "    questions_file = os.path.join(data_directory, \"test_questions.json\")\n",
    "\n",
    "    if os.path.exists(articles_file) and os.path.exists(questions_file):\n",
    "        with open(articles_file, 'r') as f:\n",
    "            context_articles = json.load(f)\n",
    "        with open(questions_file, 'r') as f:\n",
    "            test_set = json.load(f)\n",
    "        \n",
    "        # Amostra uma fração dos dados para testes rápidos\n",
    "        if sample_fraction < 10.0:\n",
    "            sample_size = max(1, int(len(test_set) * sample_fraction))\n",
    "            test_set = random.sample(test_set, sample_size)\n",
    "\n",
    "        return context_articles, test_set\n",
    "    else:\n",
    "        print(\"Files not found, check your dataset path.\")\n",
    "        return None, None\n",
    "\n",
    "def process_and_evaluate(context_articles, test_set):\n",
    "    data_directory = 'data'\n",
    "    data_file = \"qa_data.pickle\"\n",
    "    save_file = os.path.join(data_directory, data_file)\n",
    "\n",
    "    if not os.path.exists(data_directory):\n",
    "        os.makedirs(data_directory)\n",
    "\n",
    "    qa = {'question': [], 'ground_truth': [], 'contexts': [], 'answer': [],\n",
    "          'faithfulness': [], 'answer_relevancy': [], 'context_relevancy': []}\n",
    "\n",
    "    with tqdm(total=len(test_set)) as pbar:\n",
    "        for entry in test_set:\n",
    "            result = {'faithfulness': random.random(), 'answer_relevancy': random.random(), 'context_relevancy': random.random()}\n",
    "            qa['question'].append(entry['question'])\n",
    "            qa['ground_truth'].append(entry.get('ground_truth', 'No ground truth provided'))\n",
    "            qa['contexts'].append(context_articles)  # This might need optimization if too large\n",
    "            qa['answer'].append(entry['answer'])\n",
    "\n",
    "            for key in result:\n",
    "                qa[key].append(result[key])\n",
    "\n",
    "            pbar.update(1)\n",
    "\n",
    "    with open(save_file, 'wb') as f:\n",
    "        pickle.dump(qa, f)\n",
    "\n",
    "def load_and_display_results():\n",
    "    data_directory = 'data'\n",
    "    data_file = \"qa_data.pickle\"\n",
    "    save_file = os.path.join(data_directory, data_file)\n",
    "\n",
    "    if os.path.exists(save_file):\n",
    "        with open(save_file, 'rb') as f:\n",
    "            data = pickle.load(f)\n",
    "        df = pd.DataFrame(data)\n",
    "        print(df)\n",
    "    else:\n",
    "        print(f\"File {save_file} not found.\")\n",
    "\n",
    "if __name__ == \"__main__\":\n",
    "    context_articles, test_set = load_data(sample_fraction=0.01)  # Adjust fraction as needed for speed\n",
    "    if context_articles and test_set:\n",
    "        process_and_evaluate(context_articles, test_set)\n",
    "        load_and_display_results()\n"
   ]
  },
  {
   "cell_type": "code",
   "execution_count": 44,
   "metadata": {},
   "outputs": [
    {
     "name": "stderr",
     "output_type": "stream",
     "text": [
      "  0%|          | 0/50 [00:00<?, ?it/s]"
     ]
    },
    {
     "name": "stdout",
     "output_type": "stream",
     "text": [
      "Error at index 2: 'ground_truth'\n"
     ]
    },
    {
     "name": "stderr",
     "output_type": "stream",
     "text": [
      "  2%|▏         | 1/50 [02:00<1:38:00, 120.00s/it]"
     ]
    },
    {
     "name": "stdout",
     "output_type": "stream",
     "text": [
      "Error at index 3: 'ground_truth'\n"
     ]
    },
    {
     "name": "stderr",
     "output_type": "stream",
     "text": [
      "  4%|▍         | 2/50 [04:00<1:36:00, 120.01s/it]"
     ]
    },
    {
     "name": "stdout",
     "output_type": "stream",
     "text": [
      "Error at index 4: 'ground_truth'\n"
     ]
    },
    {
     "name": "stderr",
     "output_type": "stream",
     "text": [
      "  6%|▌         | 3/50 [06:00<1:34:00, 120.01s/it]"
     ]
    },
    {
     "name": "stdout",
     "output_type": "stream",
     "text": [
      "Error at index 5: 'ground_truth'\n"
     ]
    },
    {
     "name": "stderr",
     "output_type": "stream",
     "text": [
      "  8%|▊         | 4/50 [08:00<1:32:00, 120.01s/it]"
     ]
    },
    {
     "name": "stdout",
     "output_type": "stream",
     "text": [
      "Error at index 6: 'ground_truth'\n"
     ]
    },
    {
     "name": "stderr",
     "output_type": "stream",
     "text": [
      " 10%|█         | 5/50 [10:00<1:30:00, 120.01s/it]"
     ]
    },
    {
     "name": "stdout",
     "output_type": "stream",
     "text": [
      "Error at index 7: 'ground_truth'\n"
     ]
    },
    {
     "name": "stderr",
     "output_type": "stream",
     "text": [
      " 12%|█▏        | 6/50 [12:00<1:28:00, 120.01s/it]"
     ]
    },
    {
     "name": "stdout",
     "output_type": "stream",
     "text": [
      "Error at index 8: 'ground_truth'\n"
     ]
    },
    {
     "name": "stderr",
     "output_type": "stream",
     "text": [
      " 14%|█▍        | 7/50 [14:00<1:26:00, 120.01s/it]"
     ]
    },
    {
     "name": "stdout",
     "output_type": "stream",
     "text": [
      "Error at index 9: 'ground_truth'\n"
     ]
    },
    {
     "name": "stderr",
     "output_type": "stream",
     "text": [
      " 16%|█▌        | 8/50 [16:00<1:24:00, 120.01s/it]"
     ]
    },
    {
     "name": "stdout",
     "output_type": "stream",
     "text": [
      "Error at index 10: 'ground_truth'\n"
     ]
    },
    {
     "name": "stderr",
     "output_type": "stream",
     "text": [
      " 18%|█▊        | 9/50 [18:00<1:22:00, 120.01s/it]"
     ]
    },
    {
     "name": "stdout",
     "output_type": "stream",
     "text": [
      "Error at index 11: 'ground_truth'\n"
     ]
    },
    {
     "name": "stderr",
     "output_type": "stream",
     "text": [
      " 20%|██        | 10/50 [20:00<1:20:00, 120.01s/it]"
     ]
    },
    {
     "name": "stdout",
     "output_type": "stream",
     "text": [
      "Error at index 12: 'ground_truth'\n"
     ]
    },
    {
     "name": "stderr",
     "output_type": "stream",
     "text": [
      " 22%|██▏       | 11/50 [22:00<1:18:00, 120.01s/it]"
     ]
    },
    {
     "name": "stdout",
     "output_type": "stream",
     "text": [
      "Error at index 13: 'ground_truth'\n"
     ]
    },
    {
     "name": "stderr",
     "output_type": "stream",
     "text": [
      " 24%|██▍       | 12/50 [24:00<1:16:00, 120.01s/it]"
     ]
    },
    {
     "name": "stdout",
     "output_type": "stream",
     "text": [
      "Error at index 14: 'ground_truth'\n"
     ]
    },
    {
     "name": "stderr",
     "output_type": "stream",
     "text": [
      " 26%|██▌       | 13/50 [26:00<1:14:00, 120.01s/it]"
     ]
    },
    {
     "name": "stdout",
     "output_type": "stream",
     "text": [
      "Error at index 15: 'ground_truth'\n"
     ]
    },
    {
     "name": "stderr",
     "output_type": "stream",
     "text": [
      " 28%|██▊       | 14/50 [28:00<1:12:00, 120.01s/it]"
     ]
    },
    {
     "name": "stdout",
     "output_type": "stream",
     "text": [
      "Error at index 16: 'ground_truth'\n"
     ]
    },
    {
     "name": "stderr",
     "output_type": "stream",
     "text": [
      " 30%|███       | 15/50 [30:00<1:10:00, 120.01s/it]"
     ]
    },
    {
     "name": "stdout",
     "output_type": "stream",
     "text": [
      "Error at index 17: 'ground_truth'\n"
     ]
    },
    {
     "name": "stderr",
     "output_type": "stream",
     "text": [
      " 32%|███▏      | 16/50 [32:00<1:08:00, 120.01s/it]"
     ]
    },
    {
     "name": "stdout",
     "output_type": "stream",
     "text": [
      "Error at index 18: 'ground_truth'\n"
     ]
    },
    {
     "name": "stderr",
     "output_type": "stream",
     "text": [
      " 34%|███▍      | 17/50 [34:00<1:06:00, 120.01s/it]"
     ]
    },
    {
     "name": "stdout",
     "output_type": "stream",
     "text": [
      "Error at index 19: 'ground_truth'\n"
     ]
    },
    {
     "name": "stderr",
     "output_type": "stream",
     "text": [
      " 36%|███▌      | 18/50 [36:00<1:04:00, 120.00s/it]"
     ]
    },
    {
     "name": "stdout",
     "output_type": "stream",
     "text": [
      "Error at index 20: 'ground_truth'\n"
     ]
    },
    {
     "name": "stderr",
     "output_type": "stream",
     "text": [
      " 38%|███▊      | 19/50 [38:00<1:02:00, 120.00s/it]"
     ]
    },
    {
     "name": "stdout",
     "output_type": "stream",
     "text": [
      "Error at index 21: 'ground_truth'\n"
     ]
    },
    {
     "name": "stderr",
     "output_type": "stream",
     "text": [
      " 40%|████      | 20/50 [40:00<1:00:00, 120.01s/it]"
     ]
    },
    {
     "name": "stdout",
     "output_type": "stream",
     "text": [
      "Error at index 22: 'ground_truth'\n"
     ]
    },
    {
     "name": "stderr",
     "output_type": "stream",
     "text": [
      " 42%|████▏     | 21/50 [42:00<58:00, 120.01s/it]  "
     ]
    },
    {
     "name": "stdout",
     "output_type": "stream",
     "text": [
      "Error at index 23: 'ground_truth'\n"
     ]
    },
    {
     "name": "stderr",
     "output_type": "stream",
     "text": [
      " 44%|████▍     | 22/50 [44:00<56:00, 120.01s/it]"
     ]
    },
    {
     "name": "stdout",
     "output_type": "stream",
     "text": [
      "Error at index 24: 'ground_truth'\n"
     ]
    },
    {
     "name": "stderr",
     "output_type": "stream",
     "text": [
      " 46%|████▌     | 23/50 [46:00<54:00, 120.01s/it]"
     ]
    },
    {
     "name": "stdout",
     "output_type": "stream",
     "text": [
      "Error at index 25: 'ground_truth'\n"
     ]
    },
    {
     "name": "stderr",
     "output_type": "stream",
     "text": [
      " 48%|████▊     | 24/50 [48:00<52:00, 120.01s/it]"
     ]
    },
    {
     "name": "stdout",
     "output_type": "stream",
     "text": [
      "Error at index 26: 'ground_truth'\n"
     ]
    },
    {
     "name": "stderr",
     "output_type": "stream",
     "text": [
      " 50%|█████     | 25/50 [50:00<50:01, 120.05s/it]"
     ]
    },
    {
     "name": "stdout",
     "output_type": "stream",
     "text": [
      "Error at index 27: 'ground_truth'\n"
     ]
    },
    {
     "name": "stderr",
     "output_type": "stream",
     "text": [
      " 52%|█████▏    | 26/50 [52:00<48:00, 120.03s/it]"
     ]
    },
    {
     "name": "stdout",
     "output_type": "stream",
     "text": [
      "Error at index 28: 'ground_truth'\n"
     ]
    },
    {
     "name": "stderr",
     "output_type": "stream",
     "text": [
      " 54%|█████▍    | 27/50 [54:00<46:00, 120.03s/it]"
     ]
    },
    {
     "name": "stdout",
     "output_type": "stream",
     "text": [
      "Error at index 29: 'ground_truth'\n"
     ]
    },
    {
     "name": "stderr",
     "output_type": "stream",
     "text": [
      " 56%|█████▌    | 28/50 [56:00<44:00, 120.02s/it]"
     ]
    },
    {
     "name": "stdout",
     "output_type": "stream",
     "text": [
      "Error at index 30: 'ground_truth'\n"
     ]
    },
    {
     "name": "stderr",
     "output_type": "stream",
     "text": [
      " 58%|█████▊    | 29/50 [58:00<42:00, 120.02s/it]"
     ]
    },
    {
     "name": "stdout",
     "output_type": "stream",
     "text": [
      "Error at index 31: 'ground_truth'\n"
     ]
    },
    {
     "name": "stderr",
     "output_type": "stream",
     "text": [
      " 60%|██████    | 30/50 [1:00:00<40:00, 120.01s/it]"
     ]
    },
    {
     "name": "stdout",
     "output_type": "stream",
     "text": [
      "Error at index 32: 'ground_truth'\n"
     ]
    },
    {
     "name": "stderr",
     "output_type": "stream",
     "text": [
      " 62%|██████▏   | 31/50 [1:02:00<38:00, 120.01s/it]"
     ]
    },
    {
     "name": "stdout",
     "output_type": "stream",
     "text": [
      "Error at index 33: 'ground_truth'\n"
     ]
    },
    {
     "name": "stderr",
     "output_type": "stream",
     "text": [
      " 64%|██████▍   | 32/50 [1:04:00<36:00, 120.01s/it]"
     ]
    },
    {
     "name": "stdout",
     "output_type": "stream",
     "text": [
      "Error at index 34: 'ground_truth'\n"
     ]
    },
    {
     "name": "stderr",
     "output_type": "stream",
     "text": [
      " 66%|██████▌   | 33/50 [1:06:00<34:00, 120.01s/it]"
     ]
    },
    {
     "name": "stdout",
     "output_type": "stream",
     "text": [
      "Error at index 35: 'ground_truth'\n"
     ]
    },
    {
     "name": "stderr",
     "output_type": "stream",
     "text": [
      " 68%|██████▊   | 34/50 [1:08:00<32:00, 120.01s/it]"
     ]
    },
    {
     "name": "stdout",
     "output_type": "stream",
     "text": [
      "Error at index 36: 'ground_truth'\n"
     ]
    },
    {
     "name": "stderr",
     "output_type": "stream",
     "text": [
      " 70%|███████   | 35/50 [1:10:00<30:00, 120.01s/it]"
     ]
    },
    {
     "name": "stdout",
     "output_type": "stream",
     "text": [
      "Error at index 37: 'ground_truth'\n"
     ]
    },
    {
     "name": "stderr",
     "output_type": "stream",
     "text": [
      " 72%|███████▏  | 36/50 [1:12:00<28:00, 120.02s/it]"
     ]
    },
    {
     "name": "stdout",
     "output_type": "stream",
     "text": [
      "Error at index 38: 'ground_truth'\n"
     ]
    },
    {
     "name": "stderr",
     "output_type": "stream",
     "text": [
      " 74%|███████▍  | 37/50 [1:14:00<26:00, 120.02s/it]"
     ]
    },
    {
     "name": "stdout",
     "output_type": "stream",
     "text": [
      "Error at index 39: 'ground_truth'\n"
     ]
    },
    {
     "name": "stderr",
     "output_type": "stream",
     "text": [
      " 76%|███████▌  | 38/50 [1:16:00<24:00, 120.02s/it]"
     ]
    },
    {
     "name": "stdout",
     "output_type": "stream",
     "text": [
      "Error at index 40: 'ground_truth'\n"
     ]
    },
    {
     "name": "stderr",
     "output_type": "stream",
     "text": [
      " 78%|███████▊  | 39/50 [1:18:00<22:00, 120.02s/it]"
     ]
    },
    {
     "name": "stdout",
     "output_type": "stream",
     "text": [
      "Error at index 41: 'ground_truth'\n"
     ]
    },
    {
     "name": "stderr",
     "output_type": "stream",
     "text": [
      " 80%|████████  | 40/50 [1:20:00<20:00, 120.01s/it]"
     ]
    },
    {
     "name": "stdout",
     "output_type": "stream",
     "text": [
      "Error at index 42: 'ground_truth'\n"
     ]
    },
    {
     "name": "stderr",
     "output_type": "stream",
     "text": [
      " 82%|████████▏ | 41/50 [1:22:00<18:00, 120.01s/it]"
     ]
    },
    {
     "name": "stdout",
     "output_type": "stream",
     "text": [
      "Error at index 43: 'ground_truth'\n"
     ]
    },
    {
     "name": "stderr",
     "output_type": "stream",
     "text": [
      " 84%|████████▍ | 42/50 [1:24:00<16:00, 120.01s/it]"
     ]
    },
    {
     "name": "stdout",
     "output_type": "stream",
     "text": [
      "Error at index 44: 'ground_truth'\n"
     ]
    },
    {
     "name": "stderr",
     "output_type": "stream",
     "text": [
      " 86%|████████▌ | 43/50 [1:26:00<14:00, 120.01s/it]"
     ]
    },
    {
     "name": "stdout",
     "output_type": "stream",
     "text": [
      "Error at index 45: 'ground_truth'\n"
     ]
    },
    {
     "name": "stderr",
     "output_type": "stream",
     "text": [
      " 88%|████████▊ | 44/50 [1:28:00<12:00, 120.01s/it]"
     ]
    },
    {
     "name": "stdout",
     "output_type": "stream",
     "text": [
      "Error at index 46: 'ground_truth'\n"
     ]
    },
    {
     "name": "stderr",
     "output_type": "stream",
     "text": [
      " 90%|█████████ | 45/50 [1:30:00<10:00, 120.01s/it]"
     ]
    },
    {
     "name": "stdout",
     "output_type": "stream",
     "text": [
      "Error at index 47: 'ground_truth'\n"
     ]
    },
    {
     "name": "stderr",
     "output_type": "stream",
     "text": [
      " 92%|█████████▏| 46/50 [1:32:00<08:00, 120.01s/it]"
     ]
    },
    {
     "name": "stdout",
     "output_type": "stream",
     "text": [
      "Error at index 48: 'ground_truth'\n"
     ]
    },
    {
     "name": "stderr",
     "output_type": "stream",
     "text": [
      " 94%|█████████▍| 47/50 [1:34:00<06:00, 120.01s/it]"
     ]
    },
    {
     "name": "stdout",
     "output_type": "stream",
     "text": [
      "Error at index 49: 'ground_truth'\n"
     ]
    },
    {
     "name": "stderr",
     "output_type": "stream",
     "text": [
      " 96%|█████████▌| 48/50 [1:36:00<04:00, 120.01s/it]"
     ]
    },
    {
     "name": "stdout",
     "output_type": "stream",
     "text": [
      "Error at index 50: 'ground_truth'\n"
     ]
    },
    {
     "name": "stderr",
     "output_type": "stream",
     "text": [
      " 98%|█████████▊| 49/50 [1:38:00<02:00, 120.01s/it]"
     ]
    },
    {
     "name": "stdout",
     "output_type": "stream",
     "text": [
      "Error at index 51: 'ground_truth'\n"
     ]
    },
    {
     "name": "stderr",
     "output_type": "stream",
     "text": [
      "100%|██████████| 50/50 [1:40:00<00:00, 120.01s/it]\n"
     ]
    },
    {
     "ename": "ValueError",
     "evalue": "All arrays must be of the same length",
     "output_type": "error",
     "traceback": [
      "\u001b[0;31m---------------------------------------------------------------------------\u001b[0m",
      "\u001b[0;31mValueError\u001b[0m                                Traceback (most recent call last)",
      "Cell \u001b[0;32mIn[44], line 92\u001b[0m\n\u001b[1;32m     90\u001b[0m \u001b[38;5;28;01mif\u001b[39;00m context_articles \u001b[38;5;129;01mand\u001b[39;00m test_set:\n\u001b[1;32m     91\u001b[0m     process_and_evaluate(context_articles, test_set)\n\u001b[0;32m---> 92\u001b[0m     \u001b[43mload_and_display_results\u001b[49m\u001b[43m(\u001b[49m\u001b[43m)\u001b[49m\n",
      "Cell \u001b[0;32mIn[44], line 83\u001b[0m, in \u001b[0;36mload_and_display_results\u001b[0;34m()\u001b[0m\n\u001b[1;32m     81\u001b[0m     \u001b[38;5;28;01mwith\u001b[39;00m \u001b[38;5;28mopen\u001b[39m(save_file, \u001b[38;5;124m'\u001b[39m\u001b[38;5;124mrb\u001b[39m\u001b[38;5;124m'\u001b[39m) \u001b[38;5;28;01mas\u001b[39;00m f:\n\u001b[1;32m     82\u001b[0m         data \u001b[38;5;241m=\u001b[39m pickle\u001b[38;5;241m.\u001b[39mload(f)\n\u001b[0;32m---> 83\u001b[0m     df \u001b[38;5;241m=\u001b[39m \u001b[43mpd\u001b[49m\u001b[38;5;241;43m.\u001b[39;49m\u001b[43mDataFrame\u001b[49m\u001b[43m(\u001b[49m\u001b[43mdata\u001b[49m\u001b[43m)\u001b[49m\n\u001b[1;32m     84\u001b[0m     \u001b[38;5;28mprint\u001b[39m(df)\n\u001b[1;32m     85\u001b[0m \u001b[38;5;28;01melse\u001b[39;00m:\n",
      "File \u001b[0;32m~/miniconda3/envs/ia024/lib/python3.12/site-packages/pandas/core/frame.py:767\u001b[0m, in \u001b[0;36mDataFrame.__init__\u001b[0;34m(self, data, index, columns, dtype, copy)\u001b[0m\n\u001b[1;32m    761\u001b[0m     mgr \u001b[38;5;241m=\u001b[39m \u001b[38;5;28mself\u001b[39m\u001b[38;5;241m.\u001b[39m_init_mgr(\n\u001b[1;32m    762\u001b[0m         data, axes\u001b[38;5;241m=\u001b[39m{\u001b[38;5;124m\"\u001b[39m\u001b[38;5;124mindex\u001b[39m\u001b[38;5;124m\"\u001b[39m: index, \u001b[38;5;124m\"\u001b[39m\u001b[38;5;124mcolumns\u001b[39m\u001b[38;5;124m\"\u001b[39m: columns}, dtype\u001b[38;5;241m=\u001b[39mdtype, copy\u001b[38;5;241m=\u001b[39mcopy\n\u001b[1;32m    763\u001b[0m     )\n\u001b[1;32m    765\u001b[0m \u001b[38;5;28;01melif\u001b[39;00m \u001b[38;5;28misinstance\u001b[39m(data, \u001b[38;5;28mdict\u001b[39m):\n\u001b[1;32m    766\u001b[0m     \u001b[38;5;66;03m# GH#38939 de facto copy defaults to False only in non-dict cases\u001b[39;00m\n\u001b[0;32m--> 767\u001b[0m     mgr \u001b[38;5;241m=\u001b[39m \u001b[43mdict_to_mgr\u001b[49m\u001b[43m(\u001b[49m\u001b[43mdata\u001b[49m\u001b[43m,\u001b[49m\u001b[43m \u001b[49m\u001b[43mindex\u001b[49m\u001b[43m,\u001b[49m\u001b[43m \u001b[49m\u001b[43mcolumns\u001b[49m\u001b[43m,\u001b[49m\u001b[43m \u001b[49m\u001b[43mdtype\u001b[49m\u001b[38;5;241;43m=\u001b[39;49m\u001b[43mdtype\u001b[49m\u001b[43m,\u001b[49m\u001b[43m \u001b[49m\u001b[43mcopy\u001b[49m\u001b[38;5;241;43m=\u001b[39;49m\u001b[43mcopy\u001b[49m\u001b[43m,\u001b[49m\u001b[43m \u001b[49m\u001b[43mtyp\u001b[49m\u001b[38;5;241;43m=\u001b[39;49m\u001b[43mmanager\u001b[49m\u001b[43m)\u001b[49m\n\u001b[1;32m    768\u001b[0m \u001b[38;5;28;01melif\u001b[39;00m \u001b[38;5;28misinstance\u001b[39m(data, ma\u001b[38;5;241m.\u001b[39mMaskedArray):\n\u001b[1;32m    769\u001b[0m     \u001b[38;5;28;01mfrom\u001b[39;00m \u001b[38;5;21;01mnumpy\u001b[39;00m\u001b[38;5;21;01m.\u001b[39;00m\u001b[38;5;21;01mma\u001b[39;00m \u001b[38;5;28;01mimport\u001b[39;00m mrecords\n",
      "File \u001b[0;32m~/miniconda3/envs/ia024/lib/python3.12/site-packages/pandas/core/internals/construction.py:503\u001b[0m, in \u001b[0;36mdict_to_mgr\u001b[0;34m(data, index, columns, dtype, typ, copy)\u001b[0m\n\u001b[1;32m    499\u001b[0m     \u001b[38;5;28;01melse\u001b[39;00m:\n\u001b[1;32m    500\u001b[0m         \u001b[38;5;66;03m# dtype check to exclude e.g. range objects, scalars\u001b[39;00m\n\u001b[1;32m    501\u001b[0m         arrays \u001b[38;5;241m=\u001b[39m [x\u001b[38;5;241m.\u001b[39mcopy() \u001b[38;5;28;01mif\u001b[39;00m \u001b[38;5;28mhasattr\u001b[39m(x, \u001b[38;5;124m\"\u001b[39m\u001b[38;5;124mdtype\u001b[39m\u001b[38;5;124m\"\u001b[39m) \u001b[38;5;28;01melse\u001b[39;00m x \u001b[38;5;28;01mfor\u001b[39;00m x \u001b[38;5;129;01min\u001b[39;00m arrays]\n\u001b[0;32m--> 503\u001b[0m \u001b[38;5;28;01mreturn\u001b[39;00m \u001b[43marrays_to_mgr\u001b[49m\u001b[43m(\u001b[49m\u001b[43marrays\u001b[49m\u001b[43m,\u001b[49m\u001b[43m \u001b[49m\u001b[43mcolumns\u001b[49m\u001b[43m,\u001b[49m\u001b[43m \u001b[49m\u001b[43mindex\u001b[49m\u001b[43m,\u001b[49m\u001b[43m \u001b[49m\u001b[43mdtype\u001b[49m\u001b[38;5;241;43m=\u001b[39;49m\u001b[43mdtype\u001b[49m\u001b[43m,\u001b[49m\u001b[43m \u001b[49m\u001b[43mtyp\u001b[49m\u001b[38;5;241;43m=\u001b[39;49m\u001b[43mtyp\u001b[49m\u001b[43m,\u001b[49m\u001b[43m \u001b[49m\u001b[43mconsolidate\u001b[49m\u001b[38;5;241;43m=\u001b[39;49m\u001b[43mcopy\u001b[49m\u001b[43m)\u001b[49m\n",
      "File \u001b[0;32m~/miniconda3/envs/ia024/lib/python3.12/site-packages/pandas/core/internals/construction.py:114\u001b[0m, in \u001b[0;36marrays_to_mgr\u001b[0;34m(arrays, columns, index, dtype, verify_integrity, typ, consolidate)\u001b[0m\n\u001b[1;32m    111\u001b[0m \u001b[38;5;28;01mif\u001b[39;00m verify_integrity:\n\u001b[1;32m    112\u001b[0m     \u001b[38;5;66;03m# figure out the index, if necessary\u001b[39;00m\n\u001b[1;32m    113\u001b[0m     \u001b[38;5;28;01mif\u001b[39;00m index \u001b[38;5;129;01mis\u001b[39;00m \u001b[38;5;28;01mNone\u001b[39;00m:\n\u001b[0;32m--> 114\u001b[0m         index \u001b[38;5;241m=\u001b[39m \u001b[43m_extract_index\u001b[49m\u001b[43m(\u001b[49m\u001b[43marrays\u001b[49m\u001b[43m)\u001b[49m\n\u001b[1;32m    115\u001b[0m     \u001b[38;5;28;01melse\u001b[39;00m:\n\u001b[1;32m    116\u001b[0m         index \u001b[38;5;241m=\u001b[39m ensure_index(index)\n",
      "File \u001b[0;32m~/miniconda3/envs/ia024/lib/python3.12/site-packages/pandas/core/internals/construction.py:677\u001b[0m, in \u001b[0;36m_extract_index\u001b[0;34m(data)\u001b[0m\n\u001b[1;32m    675\u001b[0m lengths \u001b[38;5;241m=\u001b[39m \u001b[38;5;28mlist\u001b[39m(\u001b[38;5;28mset\u001b[39m(raw_lengths))\n\u001b[1;32m    676\u001b[0m \u001b[38;5;28;01mif\u001b[39;00m \u001b[38;5;28mlen\u001b[39m(lengths) \u001b[38;5;241m>\u001b[39m \u001b[38;5;241m1\u001b[39m:\n\u001b[0;32m--> 677\u001b[0m     \u001b[38;5;28;01mraise\u001b[39;00m \u001b[38;5;167;01mValueError\u001b[39;00m(\u001b[38;5;124m\"\u001b[39m\u001b[38;5;124mAll arrays must be of the same length\u001b[39m\u001b[38;5;124m\"\u001b[39m)\n\u001b[1;32m    679\u001b[0m \u001b[38;5;28;01mif\u001b[39;00m have_dicts:\n\u001b[1;32m    680\u001b[0m     \u001b[38;5;28;01mraise\u001b[39;00m \u001b[38;5;167;01mValueError\u001b[39;00m(\n\u001b[1;32m    681\u001b[0m         \u001b[38;5;124m\"\u001b[39m\u001b[38;5;124mMixing dicts with non-Series may lead to ambiguous ordering.\u001b[39m\u001b[38;5;124m\"\u001b[39m\n\u001b[1;32m    682\u001b[0m     )\n",
      "\u001b[0;31mValueError\u001b[0m: All arrays must be of the same length"
     ]
    }
   ],
   "source": [
    "import os\n",
    "import json\n",
    "import pickle\n",
    "import random\n",
    "import time\n",
    "from tqdm import tqdm\n",
    "import pandas as pd\n",
    "\n",
    "def load_data():\n",
    "    data_directory = 'data'\n",
    "    articles_file = os.path.join(data_directory, \"context_articles.json\")\n",
    "    questions_file = os.path.join(data_directory, \"test_questions.json\")\n",
    "\n",
    "    # Carregar artigos de contexto e conjunto de teste\n",
    "    if os.path.exists(articles_file) and os.path.exists(questions_file):\n",
    "        with open(articles_file, 'r') as f:\n",
    "            context_articles = json.load(f)\n",
    "        with open(questions_file, 'r') as f:\n",
    "            test_set = json.load(f)\n",
    "        return context_articles, test_set\n",
    "    else:\n",
    "        print(\"Files not found, check your dataset path.\")\n",
    "        return None, None\n",
    "\n",
    "def process_and_evaluate(context_articles, test_set):\n",
    "    data_directory = 'data'\n",
    "    data_file = \"qa_data.pickle\"\n",
    "    save_file = os.path.join(data_directory, data_file)\n",
    "\n",
    "    # Garantindo que o diretório de dados exista\n",
    "    os.makedirs(data_directory, exist_ok=True)\n",
    "\n",
    "    # Carregando ou inicializando o dicionário de QA\n",
    "    if os.path.exists(save_file):\n",
    "        with open(save_file, 'rb') as f:\n",
    "            qa = pickle.load(f)\n",
    "    else:\n",
    "        qa = {\n",
    "            'question': [],\n",
    "            'ground_truth': [],\n",
    "            'contexts': [],\n",
    "            'answer': [],\n",
    "            'faithfulness': [],\n",
    "            'answer_relevancy': [],\n",
    "            'context_relevancy': []\n",
    "        }\n",
    "\n",
    "    # Assumindo que 'test_set' é uma lista de dicionários\n",
    "    with tqdm(total=len(test_set)) as pbar:\n",
    "        for entry in test_set:\n",
    "            if entry['question'] not in qa['question']:\n",
    "                try:\n",
    "                    # Simulação de avaliação\n",
    "                    result = {'faithfulness': random.random(), 'answer_relevancy': random.random(), 'context_relevancy': random.random()}\n",
    "                    \n",
    "                    qa['question'].append(entry['question'])\n",
    "                    qa['ground_truth'].append(entry['ground_truth'])\n",
    "                    qa['contexts'].append(context_articles)  # Exemplo simplificado\n",
    "                    qa['answer'].append(entry['answer'])\n",
    "                    for key in result:\n",
    "                        qa[key].append(result[key])\n",
    "\n",
    "                    if len(qa['question']) % 5 == 0:\n",
    "                        with open(save_file, 'wb') as f:\n",
    "                            pickle.dump(qa, f)\n",
    "                except Exception as e:\n",
    "                    print(f\"Error at index {len(qa['question'])}: {e}\")\n",
    "                    time.sleep(120)\n",
    "                pbar.update(1)\n",
    "\n",
    "        # Salvando os dados finais\n",
    "        with open(save_file, 'wb') as f:\n",
    "            pickle.dump(qa, f)\n",
    "\n",
    "def load_and_display_results():\n",
    "    data_directory = 'data'\n",
    "    data_file = \"qa_data.pickle\"\n",
    "    save_file = os.path.join(data_directory, data_file)\n",
    "\n",
    "    if os.path.exists(save_file):\n",
    "        with open(save_file, 'rb') as f:\n",
    "            data = pickle.load(f)\n",
    "        df = pd.DataFrame(data)\n",
    "        print(df)\n",
    "    else:\n",
    "        print(f\"Arquivo {save_file} não encontrado.\")\n",
    "\n",
    "if __name__ == \"__main__\":\n",
    "    context_articles, test_set = load_data()\n",
    "    if context_articles and test_set:\n",
    "        process_and_evaluate(context_articles, test_set)\n",
    "        load_and_display_results()\n"
   ]
  },
  {
   "cell_type": "code",
   "execution_count": 15,
   "metadata": {},
   "outputs": [],
   "source": [
    "def setup_dataset():\n",
    "    DATA_DIR = 'data'\n",
    "    if not os.path.exists(DATA_DIR):\n",
    "        os.makedirs(DATA_DIR)\n",
    "\n",
    "    context_articles = \"https://iirc-dataset.s3.us-west-2.amazonaws.com/context_articles.tar.gz\"\n",
    "    filename = 'context_articles.tar.gz'\n",
    "    filepath = os.path.join(DATA_DIR, filename)\n",
    "\n",
    "    if not os.path.exists(filepath):\n",
    "        print(f\"Downloading {filename}...\")\n",
    "        response = requests.get(context_articles)\n",
    "        with open(filepath, 'wb') as f:\n",
    "            f.write(response.content)\n",
    "        print(f\"{filename} downloaded.\")\n",
    "        \n",
    "        with tarfile.open(filepath, 'r:gz') as tar:\n",
    "            tar.extractall(path=DATA_DIR)\n",
    "        print(f\"{filename} extracted.\")\n"
   ]
  },
  {
   "cell_type": "code",
   "execution_count": 37,
   "metadata": {},
   "outputs": [],
   "source": [
    "import os\n",
    "import pickle\n",
    "import random\n",
    "import time\n",
    "from tqdm import tqdm\n",
    "\n",
    "def process_and_evaluate():\n",
    "    # Definindo o diretório e o arquivo de dados\n",
    "    data_directory = 'data'\n",
    "    data_file = \"qa_data.pickle\"\n",
    "    save_file = os.path.join(data_directory, data_file)\n",
    "\n",
    "    # Garantindo que o diretório de dados exista\n",
    "    os.makedirs(data_directory, exist_ok=True)\n",
    "\n",
    "    # Carregando ou inicializando o dicionário de QA\n",
    "    if os.path.exists(save_file):\n",
    "        with open(save_file, 'rb') as f:\n",
    "            qa = pickle.load(f)\n",
    "    else:\n",
    "        qa = {\n",
    "            'question': [],\n",
    "            'ground_truth': [],\n",
    "            'contexts': [],\n",
    "            'answer': [],\n",
    "            'faithfulness': [],\n",
    "            'answer_relevancy': [],\n",
    "            'context_relevancy': []\n",
    "        }\n",
    "\n",
    "    # Simulando dados de entrada para processamento\n",
    "    dataset = [\n",
    "        {'question': \"What is AI?\", 'ground_truth': \"Study of intelligent agents.\", 'contexts': \"AI is used in various fields.\", 'answer': \"AI stands for Artificial Intelligence.\"}\n",
    "    ]\n",
    "\n",
    "    with tqdm(total=len(dataset)) as pbar:\n",
    "        for entry in dataset:\n",
    "            if entry['question'] not in qa['question']:\n",
    "                try:\n",
    "                    # Simulação de avaliação\n",
    "                    result = {'faithfulness': random.random(), 'answer_relevancy': random.random(), 'context_relevancy': random.random()}\n",
    "                    \n",
    "                    qa['question'].append(entry['question'])\n",
    "                    qa['ground_truth'].append(entry['ground_truth'])\n",
    "                    qa['contexts'].append(entry['contexts'])\n",
    "                    qa['answer'].append(entry['answer'])\n",
    "                    for key in result:\n",
    "                        qa[key].append(result[key])\n",
    "\n",
    "                    if len(qa['question']) % 5 == 0:\n",
    "                        with open(save_file, 'wb') as f:\n",
    "                            pickle.dump(qa, f)\n",
    "                except Exception as e:\n",
    "                    print(f\"Error at index {len(qa['question'])}: {e}\")\n",
    "                    time.sleep(120)\n",
    "                pbar.update(1)\n",
    "\n",
    "        with open(save_file, 'wb') as f:\n",
    "            pickle.dump(qa, f)\n"
   ]
  },
  {
   "cell_type": "code",
   "execution_count": 38,
   "metadata": {},
   "outputs": [],
   "source": [
    "def load_and_display_results():\n",
    "    data_directory = 'data'\n",
    "    data_file = \"qa_data.pickle\"\n",
    "    save_file = os.path.join(data_directory, data_file)\n",
    "\n",
    "    if os.path.exists(save_file):\n",
    "        with open(save_file, 'rb') as f:\n",
    "            data = pickle.load(f)\n",
    "        df = pd.DataFrame(data)\n",
    "        print(df)\n",
    "    else:\n",
    "        print(f\"Arquivo {save_file} não encontrado.\")"
   ]
  },
  {
   "cell_type": "code",
   "execution_count": 39,
   "metadata": {},
   "outputs": [
    {
     "name": "stderr",
     "output_type": "stream",
     "text": [
      "  0%|          | 0/1 [00:00<?, ?it/s]\n"
     ]
    },
    {
     "ename": "FileNotFoundError",
     "evalue": "[Errno 2] No such file or directory: 'qa_data.pickle'",
     "output_type": "error",
     "traceback": [
      "\u001b[0;31m---------------------------------------------------------------------------\u001b[0m",
      "\u001b[0;31mFileNotFoundError\u001b[0m                         Traceback (most recent call last)",
      "Cell \u001b[0;32mIn[39], line 5\u001b[0m\n\u001b[1;32m      3\u001b[0m process_and_evaluate()\n\u001b[1;32m      4\u001b[0m \u001b[38;5;66;03m# Carregar e exibir os resultados\u001b[39;00m\n\u001b[0;32m----> 5\u001b[0m \u001b[38;5;28;01mwith\u001b[39;00m \u001b[38;5;28;43mopen\u001b[39;49m\u001b[43m(\u001b[49m\u001b[38;5;124;43m'\u001b[39;49m\u001b[38;5;124;43mqa_data.pickle\u001b[39;49m\u001b[38;5;124;43m'\u001b[39;49m\u001b[43m,\u001b[49m\u001b[43m \u001b[49m\u001b[38;5;124;43m'\u001b[39;49m\u001b[38;5;124;43mrb\u001b[39;49m\u001b[38;5;124;43m'\u001b[39;49m\u001b[43m)\u001b[49m \u001b[38;5;28;01mas\u001b[39;00m f:\n\u001b[1;32m      6\u001b[0m     data \u001b[38;5;241m=\u001b[39m pickle\u001b[38;5;241m.\u001b[39mload(f)\n\u001b[1;32m      7\u001b[0m df \u001b[38;5;241m=\u001b[39m pd\u001b[38;5;241m.\u001b[39mDataFrame(data)\n",
      "File \u001b[0;32m~/miniconda3/envs/ia024/lib/python3.12/site-packages/IPython/core/interactiveshell.py:324\u001b[0m, in \u001b[0;36m_modified_open\u001b[0;34m(file, *args, **kwargs)\u001b[0m\n\u001b[1;32m    317\u001b[0m \u001b[38;5;28;01mif\u001b[39;00m file \u001b[38;5;129;01min\u001b[39;00m {\u001b[38;5;241m0\u001b[39m, \u001b[38;5;241m1\u001b[39m, \u001b[38;5;241m2\u001b[39m}:\n\u001b[1;32m    318\u001b[0m     \u001b[38;5;28;01mraise\u001b[39;00m \u001b[38;5;167;01mValueError\u001b[39;00m(\n\u001b[1;32m    319\u001b[0m         \u001b[38;5;124mf\u001b[39m\u001b[38;5;124m\"\u001b[39m\u001b[38;5;124mIPython won\u001b[39m\u001b[38;5;124m'\u001b[39m\u001b[38;5;124mt let you open fd=\u001b[39m\u001b[38;5;132;01m{\u001b[39;00mfile\u001b[38;5;132;01m}\u001b[39;00m\u001b[38;5;124m by default \u001b[39m\u001b[38;5;124m\"\u001b[39m\n\u001b[1;32m    320\u001b[0m         \u001b[38;5;124m\"\u001b[39m\u001b[38;5;124mas it is likely to crash IPython. If you know what you are doing, \u001b[39m\u001b[38;5;124m\"\u001b[39m\n\u001b[1;32m    321\u001b[0m         \u001b[38;5;124m\"\u001b[39m\u001b[38;5;124myou can use builtins\u001b[39m\u001b[38;5;124m'\u001b[39m\u001b[38;5;124m open.\u001b[39m\u001b[38;5;124m\"\u001b[39m\n\u001b[1;32m    322\u001b[0m     )\n\u001b[0;32m--> 324\u001b[0m \u001b[38;5;28;01mreturn\u001b[39;00m \u001b[43mio_open\u001b[49m\u001b[43m(\u001b[49m\u001b[43mfile\u001b[49m\u001b[43m,\u001b[49m\u001b[43m \u001b[49m\u001b[38;5;241;43m*\u001b[39;49m\u001b[43margs\u001b[49m\u001b[43m,\u001b[49m\u001b[43m \u001b[49m\u001b[38;5;241;43m*\u001b[39;49m\u001b[38;5;241;43m*\u001b[39;49m\u001b[43mkwargs\u001b[49m\u001b[43m)\u001b[49m\n",
      "\u001b[0;31mFileNotFoundError\u001b[0m: [Errno 2] No such file or directory: 'qa_data.pickle'"
     ]
    }
   ],
   "source": [
    "if __name__ == \"__main__\":\n",
    "    setup_dataset()\n",
    "    process_and_evaluate()\n",
    "    # Carregar e exibir os resultados\n",
    "    with open('qa_data.pickle', 'rb') as f:\n",
    "        data = pickle.load(f)\n",
    "    df = pd.DataFrame(data)\n",
    "    print(df.describe())\n",
    "    df.hist(figsize=(10,8), layout=(1,3))\n"
   ]
  },
  {
   "cell_type": "code",
   "execution_count": 40,
   "metadata": {},
   "outputs": [
    {
     "ename": "NameError",
     "evalue": "name 'dataset' is not defined",
     "output_type": "error",
     "traceback": [
      "\u001b[0;31m---------------------------------------------------------------------------\u001b[0m",
      "\u001b[0;31mNameError\u001b[0m                                 Traceback (most recent call last)",
      "Cell \u001b[0;32mIn[40], line 13\u001b[0m\n\u001b[1;32m      8\u001b[0m     qa \u001b[38;5;241m=\u001b[39m {\u001b[38;5;124m'\u001b[39m\u001b[38;5;124mquestion\u001b[39m\u001b[38;5;124m'\u001b[39m: [], \u001b[38;5;124m'\u001b[39m\u001b[38;5;124mground_truth\u001b[39m\u001b[38;5;124m'\u001b[39m: [], \u001b[38;5;124m'\u001b[39m\u001b[38;5;124mcontexts\u001b[39m\u001b[38;5;124m'\u001b[39m: [], \u001b[38;5;124m'\u001b[39m\u001b[38;5;124manswer\u001b[39m\u001b[38;5;124m'\u001b[39m: [],\n\u001b[1;32m      9\u001b[0m           \u001b[38;5;124m'\u001b[39m\u001b[38;5;124mfaithfulness\u001b[39m\u001b[38;5;124m'\u001b[39m: [], \u001b[38;5;124m'\u001b[39m\u001b[38;5;124manswer_relevancy\u001b[39m\u001b[38;5;124m'\u001b[39m: [], \u001b[38;5;124m'\u001b[39m\u001b[38;5;124mcontext_relevancy\u001b[39m\u001b[38;5;124m'\u001b[39m: []\n\u001b[1;32m     10\u001b[0m          }\n\u001b[1;32m     12\u001b[0m last_processed_index \u001b[38;5;241m=\u001b[39m \u001b[38;5;241m0\u001b[39m\n\u001b[0;32m---> 13\u001b[0m \u001b[38;5;28;01mwith\u001b[39;00m tqdm(total\u001b[38;5;241m=\u001b[39m\u001b[38;5;28mlen\u001b[39m(\u001b[43mdataset\u001b[49m)) \u001b[38;5;28;01mas\u001b[39;00m pbar:\n\u001b[1;32m     14\u001b[0m     \u001b[38;5;28;01mwhile\u001b[39;00m last_processed_index \u001b[38;5;241m<\u001b[39m \u001b[38;5;28mlen\u001b[39m(dataset):\n\u001b[1;32m     16\u001b[0m         q \u001b[38;5;241m=\u001b[39m Dataset\u001b[38;5;241m.\u001b[39mfrom_dict(dataset[last_processed_index : last_processed_index \u001b[38;5;241m+\u001b[39m \u001b[38;5;241m1\u001b[39m ])\n",
      "\u001b[0;31mNameError\u001b[0m: name 'dataset' is not defined"
     ]
    }
   ],
   "source": [
    "#Adaptado do Ramon Simoes\n",
    "save_file = \"qa_data.pickle\"\n",
    "\n",
    "if os.path.exists(save_file):\n",
    "    with open(save_file, 'rb') as f:\n",
    "        qa = pickle.load(f)\n",
    "else:\n",
    "    qa = {'question': [], 'ground_truth': [], 'contexts': [], 'answer': [],\n",
    "          'faithfulness': [], 'answer_relevancy': [], 'context_relevancy': []\n",
    "         }\n",
    "\n",
    "last_processed_index = 0\n",
    "with tqdm(total=len(dataset)) as pbar:\n",
    "    while last_processed_index < len(dataset):\n",
    "\n",
    "        q = Dataset.from_dict(dataset[last_processed_index : last_processed_index + 1 ])\n",
    "\n",
    "        if q['question'] in qa['question']:\n",
    "            last_processed_index += 1\n",
    "            pbar.update(1)\n",
    "            continue\n",
    "\n",
    "        try:\n",
    "            qa['question'].append(q['question'])\n",
    "            qa['ground_truth'].append(q['ground_truth'])\n",
    "            qa['contexts'].append(q['contexts'])\n",
    "            qa['answer'].append(q['answer'])\n",
    "\n",
    "            result = evaluate(q, metrics, llm=llm, embeddings=embedder)\n",
    "\n",
    "            for r in result:\n",
    "                qa[r].append(result[r])\n",
    "\n",
    "            if len(qa['question']) % 5 == 0:\n",
    "                with open(save_file, 'wb') as f:\n",
    "                    pickle.dump(qa, f)\n",
    "\n",
    "                sleep_time = random.uniform(5, 20)\n",
    "                time.sleep(sleep_time)\n",
    "\n",
    "            last_processed_index += 1\n",
    "            pbar.update(1)\n",
    "\n",
    "        except Exception as e:\n",
    "            print(f\"\\nErro no indice {last_processed_index}: {e}\")\n",
    "            print(\"Rate limit excedido... esperando 120s\")\n",
    "            time.sleep(120)\n",
    "\n",
    "with open(save_file, 'wb') as f:\n",
    "    pickle.dump(qa, f)"
   ]
  },
  {
   "cell_type": "code",
   "execution_count": null,
   "metadata": {},
   "outputs": [],
   "source": []
  }
 ],
 "metadata": {
  "kernelspec": {
   "display_name": "ia024_kernel",
   "language": "python",
   "name": "ia024_kernel"
  },
  "language_info": {
   "codemirror_mode": {
    "name": "ipython",
    "version": 3
   },
   "file_extension": ".py",
   "mimetype": "text/x-python",
   "name": "python",
   "nbconvert_exporter": "python",
   "pygments_lexer": "ipython3",
   "version": "3.12.2"
  }
 },
 "nbformat": 4,
 "nbformat_minor": 2
}
